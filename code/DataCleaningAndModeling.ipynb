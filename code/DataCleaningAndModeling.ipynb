{
 "cells": [
  {
   "cell_type": "markdown",
   "metadata": {},
   "source": [
    "# Importing required Python packages \n"
   ]
  },
  {
   "cell_type": "code",
   "execution_count": 1,
   "metadata": {},
   "outputs": [],
   "source": [
    "import matplotlib.pylab as plt\n",
    "import numpy as np\n",
    "from scipy import sparse\n",
    "from sklearn.datasets import make_classification, make_blobs, load_boston\n",
    "from sklearn.decomposition import PCA\n",
    "from sklearn.model_selection import ShuffleSplit, train_test_split,learning_curve, KFold, cross_val_score, GridSearchCV\n",
    "from sklearn import metrics, utils, preprocessing\n",
    "#from sklearn.model_selection.learning_curve import learning_curve\n",
    "from sklearn.linear_model import LinearRegression\n",
    "from sklearn.ensemble import GradientBoostingRegressor\n",
    "from pprint import pprint\n",
    "import pandas as pd\n",
    "from pandas.tools.plotting import scatter_matrix\n",
    "import urllib\n",
    "import seaborn\n",
    "import statsmodels.api as sm\n",
    "%matplotlib inline\n",
    "from sklearn.feature_selection import RFE\n",
    "from sklearn.linear_model import RidgeCV, LassoCV, Ridge, Lasso"
   ]
  },
  {
   "cell_type": "markdown",
   "metadata": {},
   "source": [
    "# Reading the dataset"
   ]
  },
  {
   "cell_type": "code",
   "execution_count": 2,
   "metadata": {},
   "outputs": [],
   "source": [
    "loan = pd.read_csv('loan.csv', low_memory=False)\n",
    "loanbk=loan.copy() \n",
    "loan.describe()\n",
    "\n",
    "bad_loan = [\"Charged Off\", \"Default\", \"Does not meet the credit policy. Status:Charged Off\", \"In Grace Period\", \n",
    "            \"Late (16-30 days)\", \"Late (31-120 days)\"]\n",
    "\n",
    "# Defining a new column loan_condition to qualify good/ bad loans\n",
    "loan['loan_condition'] = np.nan\n",
    "\n",
    "\n",
    "def loan_condition(status):\n",
    "    if status in bad_loan:\n",
    "        return 'Bad Loan'\n",
    "    else:\n",
    "        return 'Good Loan'\n",
    "    \n",
    "#calling function using data frame  \n",
    "loan['loan_condition'] = loan['loan_status'].apply(loan_condition)\n",
    "\n",
    "loan = loan[loan['loan_condition']=='Bad Loan']\n"
   ]
  },
  {
   "cell_type": "markdown",
   "metadata": {},
   "source": [
    "# Data Cleansing, Pre-Processing and Feature Engineering"
   ]
  },
  {
   "cell_type": "code",
   "execution_count": 3,
   "metadata": {},
   "outputs": [
    {
     "name": "stdout",
     "output_type": "stream",
     "text": [
      "<class 'pandas.core.frame.DataFrame'>\n",
      "Int64Index: 67429 entries, 1 to 887371\n",
      "Data columns (total 35 columns):\n",
      "id                            67429 non-null int64\n",
      "loan_amnt                     67429 non-null float64\n",
      "funded_amnt                   67429 non-null float64\n",
      "funded_amnt_inv               67429 non-null float64\n",
      "term                          67429 non-null object\n",
      "int_rate                      67429 non-null float64\n",
      "installment                   67429 non-null float64\n",
      "home_ownership                67429 non-null object\n",
      "annual_inc                    67429 non-null float64\n",
      "verification_status           67429 non-null object\n",
      "loan_status                   67429 non-null object\n",
      "purpose                       67429 non-null object\n",
      "dti                           67429 non-null float64\n",
      "delinq_2yrs                   67429 non-null float64\n",
      "inq_last_6mths                67429 non-null float64\n",
      "open_acc                      67429 non-null float64\n",
      "pub_rec                       67429 non-null float64\n",
      "revol_bal                     67429 non-null float64\n",
      "revol_util                    67429 non-null float64\n",
      "total_acc                     67429 non-null float64\n",
      "out_prncp                     67429 non-null float64\n",
      "out_prncp_inv                 67429 non-null float64\n",
      "total_pymnt                   67429 non-null float64\n",
      "total_pymnt_inv               67429 non-null float64\n",
      "total_rec_prncp               67429 non-null float64\n",
      "total_rec_int                 67429 non-null float64\n",
      "total_rec_late_fee            67429 non-null float64\n",
      "recoveries                    67429 non-null float64\n",
      "collection_recovery_fee       67429 non-null float64\n",
      "collections_12_mths_ex_med    67429 non-null float64\n",
      "application_type              67429 non-null object\n",
      "acc_now_delinq                67429 non-null float64\n",
      "tot_coll_amt                  67429 non-null float64\n",
      "tot_cur_bal                   67429 non-null float64\n",
      "total_rev_hi_lim              67429 non-null float64\n",
      "dtypes: float64(28), int64(1), object(6)\n",
      "memory usage: 18.5+ MB\n"
     ]
    },
    {
     "name": "stderr",
     "output_type": "stream",
     "text": [
      "C:\\Users\\kesha\\Anaconda3\\lib\\site-packages\\ipykernel_launcher.py:7: FutureWarning: Sorting because non-concatenation axis is not aligned. A future version\n",
      "of pandas will change to not sort by default.\n",
      "\n",
      "To accept the future behavior, pass 'sort=False'.\n",
      "\n",
      "To retain the current behavior and silence the warning, pass 'sort=True'.\n",
      "\n",
      "  import sys\n"
     ]
    }
   ],
   "source": [
    "total_num = loan.isnull().sum().sort_values(ascending=False)\n",
    "\n",
    "perc = loan.isnull().sum()/loan.isnull().count() *100\n",
    "perc1 = (round(perc,2).sort_values(ascending=False))\n",
    "\n",
    "# Creating a data frame:\n",
    "df_miss = pd.concat([total_num, perc1], axis =1 , keys =[\"Total Missing Values\", \"Percentage %\"]).sort_values(by =\"Percentage %\", ascending = False)\n",
    "top_mis = df_miss[df_miss[\"Percentage %\"]>0]\n",
    "top_mis.reset_index(inplace=True)\n",
    "\n",
    "loan.drop(top_mis[top_mis[\"Percentage %\"]>75][\"index\"], axis = 1, inplace=True)\n",
    "loan.drop([\"next_pymnt_d\",\"mths_since_last_delinq\"], axis = 1, inplace=True)\n",
    "loan.drop([\"last_pymnt_d\", \"last_credit_pull_d\", \"earliest_cr_line\", \"issue_d\", \"addr_state\"], axis =1 , inplace = True)\n",
    "loan[\"tot_cur_bal\"] = loan[\"tot_cur_bal\"].fillna(loan[\"tot_cur_bal\"].mean())\n",
    "\n",
    "loan[\"tot_coll_amt\"] = loan[\"tot_coll_amt\"].fillna(0)\n",
    "\n",
    "loan[\"emp_length\"]=loan[\"emp_length\"].fillna(0)\n",
    "\n",
    "loan[\"revol_util\"]= loan[\"revol_util\"].fillna(loan[\"revol_util\"].mean())\n",
    "\n",
    "loan[\"collections_12_mths_ex_med\"]= loan[\"collections_12_mths_ex_med\"].fillna(loan[\"collections_12_mths_ex_med\"].mean())\n",
    "\n",
    "loan[\"acc_now_delinq\"]=loan[\"acc_now_delinq\"].fillna(loan[\"acc_now_delinq\"].mode())\n",
    "\n",
    "loan[\"delinq_2yrs\"]=loan[\"delinq_2yrs\"].fillna(0)\n",
    "\n",
    "loan[\"inq_last_6mths\"]= loan[\"inq_last_6mths\"].fillna(0)\n",
    "\n",
    "loan[\"pub_rec\"]= loan[\"pub_rec\"].fillna(0)\n",
    "\n",
    "loan[\"acc_now_delinq\"]= loan[\"acc_now_delinq\"].fillna(0)\n",
    "\n",
    "loan[\"open_acc\"]= loan[\"open_acc\"].fillna(loan[\"open_acc\"].mean())\n",
    "\n",
    "loan[\"total_rev_hi_lim\"] = loan[\"total_rev_hi_lim\"].fillna(loan[\"total_rev_hi_lim\"].mean())\n",
    "\n",
    "loan[\"total_acc\"]=loan[\"total_acc\"].fillna(loan[\"total_acc\"].mean())\n",
    "\n",
    "loan[\"annual_inc\"] = loan[\"annual_inc\"].fillna(loan[\"annual_inc\"].mean())\n",
    "\n",
    "#OK let's take a look at the columns and see if there are any we can drop any before we get started.\n",
    "loan.columns.values\n",
    "\n",
    "#There're plenty that don't seem very relevant. Let's drop them.\n",
    "loan=loan.drop(['member_id', 'grade', 'sub_grade', 'emp_title',\n",
    "          'pymnt_plan', 'url', 'title', 'initial_list_status',\n",
    "           'last_pymnt_amnt','policy_code', 'emp_length','zip_code','desc', 'loan_condition'], axis=1)\n",
    "\n",
    "loan.info()"
   ]
  },
  {
   "cell_type": "code",
   "execution_count": 4,
   "metadata": {},
   "outputs": [
    {
     "name": "stdout",
     "output_type": "stream",
     "text": [
      "<class 'pandas.core.frame.DataFrame'>\n",
      "Int64Index: 67429 entries, 1 to 887371\n",
      "Data columns (total 35 columns):\n",
      "id                            67429 non-null int64\n",
      "loan_amnt                     67429 non-null float64\n",
      "funded_amnt                   67429 non-null float64\n",
      "funded_amnt_inv               67429 non-null float64\n",
      "term                          67429 non-null object\n",
      "int_rate                      67429 non-null float64\n",
      "installment                   67429 non-null float64\n",
      "home_ownership                67429 non-null object\n",
      "annual_inc                    67429 non-null float64\n",
      "verification_status           67429 non-null object\n",
      "loan_status                   67429 non-null object\n",
      "purpose                       67429 non-null object\n",
      "dti                           67429 non-null float64\n",
      "delinq_2yrs                   67429 non-null float64\n",
      "inq_last_6mths                67429 non-null float64\n",
      "open_acc                      67429 non-null float64\n",
      "pub_rec                       67429 non-null float64\n",
      "revol_bal                     67429 non-null float64\n",
      "revol_util                    67429 non-null float64\n",
      "total_acc                     67429 non-null float64\n",
      "out_prncp                     67429 non-null float64\n",
      "out_prncp_inv                 67429 non-null float64\n",
      "total_pymnt                   67429 non-null float64\n",
      "total_pymnt_inv               67429 non-null float64\n",
      "total_rec_prncp               67429 non-null float64\n",
      "total_rec_int                 67429 non-null float64\n",
      "total_rec_late_fee            67429 non-null float64\n",
      "recoveries                    67429 non-null float64\n",
      "collection_recovery_fee       67429 non-null float64\n",
      "collections_12_mths_ex_med    67429 non-null float64\n",
      "application_type              67429 non-null object\n",
      "acc_now_delinq                67429 non-null float64\n",
      "tot_coll_amt                  67429 non-null float64\n",
      "tot_cur_bal                   67429 non-null float64\n",
      "total_rev_hi_lim              67429 non-null float64\n",
      "dtypes: float64(28), int64(1), object(6)\n",
      "memory usage: 18.5+ MB\n"
     ]
    }
   ],
   "source": [
    "# Get rid of non-numeric values throughout the DataFrame:\n",
    "for col in loan.columns.values:\n",
    "    loan[col] = loan[col].replace('[^0-9]+.-', '', regex=True)\n",
    "loan.info()"
   ]
  },
  {
   "cell_type": "code",
   "execution_count": 5,
   "metadata": {},
   "outputs": [],
   "source": [
    "#Remove \"months\" from the loan period\n",
    "loan.term=loan.term.astype(str).str.split(' ',2).str[1]\n",
    "\n",
    "loan['application_type'] = loan['application_type'].map({'INDIVIDUAL': 0, 'JOINT': 1})"
   ]
  },
  {
   "cell_type": "code",
   "execution_count": 6,
   "metadata": {},
   "outputs": [
    {
     "name": "stdout",
     "output_type": "stream",
     "text": [
      "<class 'pandas.core.frame.DataFrame'>\n",
      "Int64Index: 67429 entries, 1 to 887371\n",
      "Data columns (total 35 columns):\n",
      "id                            67429 non-null int64\n",
      "loan_amnt                     67429 non-null float64\n",
      "funded_amnt                   67429 non-null float64\n",
      "funded_amnt_inv               67429 non-null float64\n",
      "term                          67429 non-null object\n",
      "int_rate                      67429 non-null float64\n",
      "installment                   67429 non-null float64\n",
      "home_ownership                67429 non-null int32\n",
      "annual_inc                    67429 non-null float64\n",
      "verification_status           67429 non-null int32\n",
      "loan_status                   67429 non-null int32\n",
      "purpose                       67429 non-null int32\n",
      "dti                           67429 non-null float64\n",
      "delinq_2yrs                   67429 non-null float64\n",
      "inq_last_6mths                67429 non-null float64\n",
      "open_acc                      67429 non-null float64\n",
      "pub_rec                       67429 non-null float64\n",
      "revol_bal                     67429 non-null float64\n",
      "revol_util                    67429 non-null float64\n",
      "total_acc                     67429 non-null float64\n",
      "out_prncp                     67429 non-null float64\n",
      "out_prncp_inv                 67429 non-null float64\n",
      "total_pymnt                   67429 non-null float64\n",
      "total_pymnt_inv               67429 non-null float64\n",
      "total_rec_prncp               67429 non-null float64\n",
      "total_rec_int                 67429 non-null float64\n",
      "total_rec_late_fee            67429 non-null float64\n",
      "recoveries                    67429 non-null float64\n",
      "collection_recovery_fee       67429 non-null float64\n",
      "collections_12_mths_ex_med    67429 non-null float64\n",
      "application_type              67429 non-null int64\n",
      "acc_now_delinq                67429 non-null float64\n",
      "tot_coll_amt                  67429 non-null float64\n",
      "tot_cur_bal                   67429 non-null float64\n",
      "total_rev_hi_lim              67429 non-null float64\n",
      "dtypes: float64(28), int32(4), int64(2), object(1)\n",
      "memory usage: 17.5+ MB\n"
     ]
    }
   ],
   "source": [
    "#Let's change the Income Verified column, which currently has textual labels to numeric.\n",
    "from sklearn.preprocessing import LabelEncoder\n",
    "le=LabelEncoder()\n",
    "loan.verification_status = le.fit_transform(loan.verification_status.values)\n",
    "loan.home_ownership=le.fit_transform(loan.home_ownership.values)\n",
    "loan.loan_status=le.fit_transform(loan.loan_status.values)\n",
    "loan.purpose=le.fit_transform(loan.purpose.values)\n",
    "\n",
    "#Finally let's be sure we convert all fields to numeric\n",
    "loan.apply(pd.to_numeric, errors = 'coerce')\n",
    "loan.head(2)\n",
    "loan.info()"
   ]
  },
  {
   "cell_type": "markdown",
   "metadata": {},
   "source": [
    "# Finding correlations"
   ]
  },
  {
   "cell_type": "code",
   "execution_count": 7,
   "metadata": {},
   "outputs": [
    {
     "name": "stdout",
     "output_type": "stream",
     "text": [
      "int_rate    1.0\n",
      "Name: int_rate, dtype: float64\n"
     ]
    }
   ],
   "source": [
    "X = loan.drop(\"int_rate\",1)   #Feature Matrix\n",
    "y = loan[\"int_rate\"]          #Target Variable\n",
    "loan.head()\n",
    "\n",
    "cor = loan.corr()\n",
    "\n",
    "#Correlation with output variable\n",
    "cor_target = abs(cor[\"int_rate\"])\n",
    "\n",
    "#Selecting highly correlated features\n",
    "relevant_features = cor_target[cor_target>0.5]\n",
    "print(relevant_features)"
   ]
  },
  {
   "cell_type": "markdown",
   "metadata": {},
   "source": [
    "# Filtering through p-value"
   ]
  },
  {
   "cell_type": "code",
   "execution_count": 8,
   "metadata": {},
   "outputs": [],
   "source": [
    "#Adding constant column of ones, mandatory for sm.OLS model\n",
    "X_1 = sm.add_constant(X)\n",
    "\n",
    "#Fitting sm.OLS model\n",
    "model = sm.OLS(y,X_1.astype(float)).fit()\n",
    "\n",
    "\n",
    "p = model.pvalues"
   ]
  },
  {
   "cell_type": "code",
   "execution_count": 9,
   "metadata": {},
   "outputs": [
    {
     "name": "stdout",
     "output_type": "stream",
     "text": [
      "['id', 'loan_amnt', 'funded_amnt', 'funded_amnt_inv', 'term', 'installment', 'home_ownership', 'annual_inc', 'verification_status', 'purpose', 'dti', 'delinq_2yrs', 'inq_last_6mths', 'open_acc', 'pub_rec', 'revol_bal', 'revol_util', 'total_acc', 'out_prncp', 'out_prncp_inv', 'total_pymnt', 'total_pymnt_inv', 'total_rec_prncp', 'total_rec_late_fee', 'recoveries', 'collection_recovery_fee', 'collections_12_mths_ex_med', 'acc_now_delinq', 'tot_coll_amt', 'tot_cur_bal', 'total_rev_hi_lim']\n"
     ]
    }
   ],
   "source": [
    "#Backward Elimination\n",
    "cols = list(X.columns)\n",
    "pmax = 1\n",
    "while (len(cols)>0):\n",
    "    p= []\n",
    "    X_1 = X[cols]\n",
    "    X_1 = sm.add_constant(X_1)\n",
    "    model = sm.OLS(y,X_1.astype(float)).fit()\n",
    "    p = pd.Series(model.pvalues.values[1:],index = cols)      \n",
    "    pmax = max(p)\n",
    "    feature_with_p_max = p.idxmax()\n",
    "    if(pmax>0.05):\n",
    "        cols.remove(feature_with_p_max)\n",
    "    else:\n",
    "        break\n",
    "\n",
    "selected_features_BE = cols\n",
    "print(selected_features_BE)"
   ]
  },
  {
   "cell_type": "code",
   "execution_count": 10,
   "metadata": {},
   "outputs": [
    {
     "name": "stdout",
     "output_type": "stream",
     "text": [
      "31\n",
      "<class 'pandas.core.frame.DataFrame'>\n",
      "Int64Index: 67429 entries, 1 to 887371\n",
      "Data columns (total 32 columns):\n",
      "id                            67429 non-null int64\n",
      "loan_amnt                     67429 non-null float64\n",
      "funded_amnt                   67429 non-null float64\n",
      "funded_amnt_inv               67429 non-null float64\n",
      "term                          67429 non-null object\n",
      "int_rate                      67429 non-null float64\n",
      "installment                   67429 non-null float64\n",
      "home_ownership                67429 non-null int32\n",
      "annual_inc                    67429 non-null float64\n",
      "verification_status           67429 non-null int32\n",
      "purpose                       67429 non-null int32\n",
      "dti                           67429 non-null float64\n",
      "delinq_2yrs                   67429 non-null float64\n",
      "inq_last_6mths                67429 non-null float64\n",
      "open_acc                      67429 non-null float64\n",
      "pub_rec                       67429 non-null float64\n",
      "revol_bal                     67429 non-null float64\n",
      "revol_util                    67429 non-null float64\n",
      "total_acc                     67429 non-null float64\n",
      "out_prncp                     67429 non-null float64\n",
      "out_prncp_inv                 67429 non-null float64\n",
      "total_pymnt                   67429 non-null float64\n",
      "total_pymnt_inv               67429 non-null float64\n",
      "total_rec_prncp               67429 non-null float64\n",
      "total_rec_late_fee            67429 non-null float64\n",
      "recoveries                    67429 non-null float64\n",
      "collection_recovery_fee       67429 non-null float64\n",
      "collections_12_mths_ex_med    67429 non-null float64\n",
      "acc_now_delinq                67429 non-null float64\n",
      "tot_coll_amt                  67429 non-null float64\n",
      "tot_cur_bal                   67429 non-null float64\n",
      "total_rev_hi_lim              67429 non-null float64\n",
      "dtypes: float64(27), int32(3), int64(1), object(1)\n",
      "memory usage: 16.2+ MB\n",
      "None\n"
     ]
    }
   ],
   "source": [
    "print(len(selected_features_BE))\n",
    "\n",
    "loanbk = loan.copy()\n",
    "for column in loanbk:\n",
    "    if(column not in selected_features_BE):\n",
    "        if(column not in 'int_rate'):\n",
    "            loan=loan.drop([column], axis=1)\n",
    "\n",
    "print(loan.info())"
   ]
  },
  {
   "cell_type": "markdown",
   "metadata": {},
   "source": [
    "# Splitting data into train dataset and validate dataset "
   ]
  },
  {
   "cell_type": "code",
   "execution_count": 11,
   "metadata": {},
   "outputs": [],
   "source": [
    "#OK great, let's now get our X and y. We know that interest rate is y.\n",
    "#Pandas is fantastic, all you need to do is use .values to get the data in numpy format\n",
    "y = loan[\"int_rate\"]          #Target Variable\n",
    "\n",
    "#Let's remove y from the df so we can get X\n",
    "X = loan.drop(\"int_rate\",1)   #Feature Matrix\n",
    "\n",
    "#Now, the train test split\n",
    "X_train, X_test, y_train, y_test = train_test_split(X,y)"
   ]
  },
  {
   "cell_type": "markdown",
   "metadata": {},
   "source": [
    "# Linear Regression Model"
   ]
  },
  {
   "cell_type": "code",
   "execution_count": 12,
   "metadata": {},
   "outputs": [
    {
     "name": "stdout",
     "output_type": "stream",
     "text": [
      "Coefficients (theta_1..theta_n)\n",
      "[ 9.47011721e-09 -1.80064414e-04 -1.24662871e-03  1.28832994e-04\n",
      "  3.27729551e-01  4.18168090e-02  7.88827782e-02 -1.36456398e-06\n",
      "  2.15567758e-01  1.60299682e-01  2.49902263e-02  1.38133077e-01\n",
      "  3.70841527e-01  4.50305095e-02  1.56501964e-01  6.06628537e-06\n",
      "  1.96759802e-02 -2.62057199e-02  3.94109003e-03 -3.95953148e-03\n",
      "  9.56396586e-04 -4.67733859e-05 -1.37671788e-03 -3.22952999e-03\n",
      " -7.94560585e-04 -5.03808834e-04  4.67034232e-01  6.61508913e-01\n",
      "  2.82539035e-05 -1.35052453e-06 -1.22428685e-05]\n",
      "\n",
      "Y Intercept(theta0)\n",
      "-1.1007685337479653\n",
      "\n",
      "R-squared for Train: 0.65\n",
      "R-squared for Test: 0.65\n"
     ]
    }
   ],
   "source": [
    "\n",
    "#Alright let's now fit a linear regression model to the training set\n",
    "linr=LinearRegression().fit(X_train, y_train)\n",
    "predictions_regression_model = linr.predict(X_test)\n",
    "\n",
    "#Alright let's get the parameters we've learned\n",
    "print(\"Coefficients (theta_1..theta_n)\" ) \n",
    "print (linr.coef_)\n",
    "print()\n",
    "print (\"Y Intercept(theta0)\")\n",
    "print (linr.intercept_)\n",
    "print()\n",
    "\n",
    "#Let's also spit out the R-squared values for Train and Test\n",
    "print (\"R-squared for Train: %.2f\" %linr.score(X_train, y_train))\n",
    "print (\"R-squared for Test: %.2f\" %linr.score(X_test, y_test))\n",
    "\n",
    "#There we have it, the R-squared value on the test set is about 64%, which is not great but understandable considering\n",
    "#the data must be much more sophisticated than a straight line. The only other thing we can do with this regressor is\n",
    "#to normalize the data before training (value - mean /std) so all values are in the same range from 0 to 1. \n",
    "#Let's try this in the next step"
   ]
  },
  {
   "cell_type": "code",
   "execution_count": 13,
   "metadata": {},
   "outputs": [
    {
     "name": "stdout",
     "output_type": "stream",
     "text": [
      "Coefficients (theta_1..theta_n)\n",
      "[ 9.47011721e-09 -1.80064414e-04 -1.24662871e-03  1.28832994e-04\n",
      "  3.27729551e-01  4.18168090e-02  7.88827782e-02 -1.36456398e-06\n",
      "  2.15567758e-01  1.60299682e-01  2.49902263e-02  1.38133077e-01\n",
      "  3.70841527e-01  4.50305095e-02  1.56501964e-01  6.06628537e-06\n",
      "  1.96759802e-02 -2.62057199e-02  3.94109003e-03 -3.95953148e-03\n",
      "  9.56396586e-04 -4.67733859e-05 -1.37671788e-03 -3.22952999e-03\n",
      " -7.94560585e-04 -5.03808834e-04  4.67034232e-01  6.61508913e-01\n",
      "  2.82539035e-05 -1.35052453e-06 -1.22428685e-05]\n",
      "\n",
      "Y Intercept(theta0)\n",
      "-1.1007685337480009\n",
      "\n",
      "R-squared for Train: 0.65\n",
      "R-squared for Test: 0.65\n"
     ]
    }
   ],
   "source": [
    "#Let's now fit a linear regression model with normalize=True to the training set\n",
    "linr=LinearRegression(normalize=True).fit(X_train, y_train)\n",
    "\n",
    "#Alright let's get the parameters we've learned\n",
    "\n",
    "print(\"Coefficients (theta_1..theta_n)\" ) \n",
    "print (linr.coef_)\n",
    "print()\n",
    "print (\"Y Intercept(theta0)\")\n",
    "print (linr.intercept_)\n",
    "print()\n",
    "\n",
    "#Let's also spit out the R-squared values for Train and Test\n",
    "\n",
    "print (\"R-squared for Train: %.2f\" %linr.score(X_train, y_train))\n",
    "print (\"R-squared for Test: %.2f\" %linr.score(X_test, y_test))\n",
    "#There we have it, the R-squared value on the test set is about 71%, actually a bit less than what we managed before.\n",
    "\n",
    "#I will explore more sophisticated regressors in a seperate post."
   ]
  },
  {
   "cell_type": "markdown",
   "metadata": {},
   "source": [
    "# Random Forest Model"
   ]
  },
  {
   "cell_type": "code",
   "execution_count": 14,
   "metadata": {
    "scrolled": true
   },
   "outputs": [
    {
     "name": "stdout",
     "output_type": "stream",
     "text": [
      "[0.         0.         0.         0.         0.79706907 0.0988875\n",
      " 0.         0.         0.         0.         0.         0.\n",
      " 0.         0.         0.         0.         0.         0.\n",
      " 0.         0.         0.         0.         0.         0.\n",
      " 0.         0.         0.         0.         0.         0.\n",
      " 0.10404343]\n",
      "[17.71065982 17.71065982 13.47923073 ... 15.26143107 13.47923073\n",
      " 15.26143107]\n"
     ]
    }
   ],
   "source": [
    "from sklearn.ensemble import RandomForestRegressor\n",
    "\n",
    "\n",
    "regr = RandomForestRegressor(max_depth=2, random_state=0,\n",
    "                              n_estimators=100)\n",
    "regr.fit(X_train, y_train)\n",
    "predictions_rf_model = regr.predict(X_test)\n",
    "RandomForestRegressor(bootstrap=True, criterion='mse', max_depth=2,\n",
    "           max_features='auto', max_leaf_nodes=None,\n",
    "           min_impurity_decrease=0.0, min_impurity_split=None,\n",
    "           min_samples_leaf=1, min_samples_split=2,\n",
    "           min_weight_fraction_leaf=0.0, n_estimators=100, n_jobs=None,\n",
    "           oob_score=False, random_state=0, verbose=0, warm_start=False)\n",
    "print(regr.feature_importances_)\n",
    "\n",
    "print(predictions_rf_model)"
   ]
  },
  {
   "cell_type": "code",
   "execution_count": 15,
   "metadata": {},
   "outputs": [
    {
     "name": "stdout",
     "output_type": "stream",
     "text": [
      "0.2642395326968977\n",
      "0.24943463576526015\n"
     ]
    }
   ],
   "source": [
    "print(regr.score(X_train,y_train))\n",
    "print(regr.score(X_test,y_test))"
   ]
  },
  {
   "cell_type": "markdown",
   "metadata": {},
   "source": [
    "# MAPE (Mean Absolute Percentage Error)"
   ]
  },
  {
   "cell_type": "code",
   "execution_count": 16,
   "metadata": {},
   "outputs": [],
   "source": [
    "def mean_absolute_percentage_error(y_true, y_pred): \n",
    "    y_true, y_pred = np.array(y_true), np.array(y_pred)\n",
    "    return np.mean(np.abs((y_true - y_pred) / y_true)) * 100"
   ]
  },
  {
   "cell_type": "code",
   "execution_count": 17,
   "metadata": {
    "scrolled": true
   },
   "outputs": [
    {
     "name": "stdout",
     "output_type": "stream",
     "text": [
      "MAPE of Regression Model 13.392537891962132\n",
      "MAPE of Random Forest 19.264766225789618\n"
     ]
    }
   ],
   "source": [
    "mape_regr = mean_absolute_percentage_error(predictions_regression_model, y_test)\n",
    "print(\"MAPE of Regression Model\",mape_regr)\n",
    "\n",
    "mape_rf = mean_absolute_percentage_error(predictions_rf_model, y_test)\n",
    "print(\"MAPE of Random Forest\",mape_rf)"
   ]
  },
  {
   "cell_type": "markdown",
   "metadata": {},
   "source": [
    "#  5-fold cross validation"
   ]
  },
  {
   "cell_type": "code",
   "execution_count": 18,
   "metadata": {},
   "outputs": [
    {
     "name": "stdout",
     "output_type": "stream",
     "text": [
      "Accuracy of all 5 Linear Regression models: [0.34114449 0.63965562 0.67435791 0.66025695 0.54421775]\n",
      "Accuracy of Linear Regression: 57.19 %\n",
      "Accuracy of all 5 Random Forest models: [0.1852108  0.2594334  0.26181715 0.23357963 0.22598916]\n",
      "Accuracy of Random Forest: 23.32 %\n"
     ]
    }
   ],
   "source": [
    "#Linear Regresssion\n",
    "x_lr = loan.drop(\"int_rate\",1)\n",
    "y_lr = loan[\"int_rate\"] \n",
    "\n",
    "loans_full_linear = cross_val_score(LinearRegression(), x_lr, y_lr,  cv = KFold(5))\n",
    "print(\"Accuracy of all 5 Linear Regression models:\", loans_full_linear)\n",
    "print(\"Accuracy of Linear Regression: %.2f\"%(np.mean(loans_full_linear)*100), \"%\")\n",
    "\n",
    "\n",
    "#Random Forest\n",
    "regr = RandomForestRegressor(max_depth=2, random_state=0,n_estimators=10)\n",
    "loans_full_rf = cross_val_score(regr, x_lr, y_lr,  cv = KFold(5))\n",
    "print(\"Accuracy of all 5 Random Forest models:\", loans_full_rf)\n",
    "print(\"Accuracy of Random Forest: %.2f\"%(np.mean(loans_full_rf)*100), \"%\")"
   ]
  },
  {
   "cell_type": "markdown",
   "metadata": {},
   "source": [
    "#  Hyper-parameter optimization - Regression"
   ]
  },
  {
   "cell_type": "code",
   "execution_count": 19,
   "metadata": {},
   "outputs": [
    {
     "name": "stderr",
     "output_type": "stream",
     "text": [
      "C:\\Users\\kesha\\Anaconda3\\lib\\site-packages\\sklearn\\linear_model\\coordinate_descent.py:492: ConvergenceWarning: Objective did not converge. You might want to increase the number of iterations. Fitting data with very small alpha may cause precision problems.\n",
      "  ConvergenceWarning)\n"
     ]
    },
    {
     "name": "stdout",
     "output_type": "stream",
     "text": [
      "R-squared for Train: 0.63\n",
      "R-squared for Test: 0.62\n"
     ]
    },
    {
     "name": "stderr",
     "output_type": "stream",
     "text": [
      "C:\\Users\\kesha\\Anaconda3\\lib\\site-packages\\sklearn\\linear_model\\ridge.py:125: LinAlgWarning: scipy.linalg.solve\n",
      "Ill-conditioned matrix detected. Result is not guaranteed to be accurate.\n",
      "Reciprocal condition number1.994333e-17\n",
      "  overwrite_a=True).T\n"
     ]
    },
    {
     "name": "stdout",
     "output_type": "stream",
     "text": [
      "R-squared for Train: 0.65\n",
      "R-squared for Test: 0.65\n"
     ]
    },
    {
     "name": "stderr",
     "output_type": "stream",
     "text": [
      "C:\\Users\\kesha\\Anaconda3\\lib\\site-packages\\sklearn\\linear_model\\coordinate_descent.py:492: ConvergenceWarning: Objective did not converge. You might want to increase the number of iterations. Fitting data with very small alpha may cause precision problems.\n",
      "  ConvergenceWarning)\n"
     ]
    },
    {
     "name": "stdout",
     "output_type": "stream",
     "text": [
      "R-squared for Train: 0.64\n",
      "R-squared for Test: 0.63\n",
      "Lasso Regression Mean Square Error for TEST Data is: \n",
      "7.18\n",
      "Ridge Regression Mean Square Error for TEST Data is: \n",
      "6.63\n",
      "Elastic Net Regression Mean Square Error for TEST Data is: \n",
      "7.02\n"
     ]
    }
   ],
   "source": [
    "#Regression\n",
    "from sklearn.linear_model import Lasso, Ridge, ElasticNet\n",
    "\n",
    "lm_lasso = Lasso()\n",
    "lm_ridge =Ridge()\n",
    "lm_elasticnet =ElasticNet()\n",
    "\n",
    "linr_lasso=lm_lasso.fit(X_train, y_train)\n",
    "print (\"R-squared for Train: %.2f\" %linr_lasso.score(X_train, y_train))\n",
    "print (\"R-squared for Test: %.2f\" %linr_lasso.score(X_test, y_test))\n",
    "\n",
    "linr_ridge=lm_ridge.fit(X_train, y_train)\n",
    "print (\"R-squared for Train: %.2f\" %linr_ridge.score(X_train, y_train))\n",
    "print (\"R-squared for Test: %.2f\" %linr_ridge.score(X_test, y_test))\n",
    "\n",
    "linr_elasticnet=lm_elasticnet.fit(X_train, y_train)\n",
    "print (\"R-squared for Train: %.2f\" %linr_elasticnet.score(X_train, y_train))\n",
    "print (\"R-squared for Test: %.2f\" %linr_elasticnet.score(X_test, y_test))\n",
    "\n",
    "predict_test_lasso = linr_lasso.predict(X_test)\n",
    "predict_test_ridge = linr_ridge.predict(X_test)\n",
    "predict_test_elasticnet = linr_elasticnet.predict(X_test)\n",
    "\n",
    "print(\"Lasso Regression Mean Square Error for TEST Data is: \")\n",
    "print(np.round(metrics.mean_squared_error(y_test, predict_test_lasso), 2))\n",
    "print(\"Ridge Regression Mean Square Error for TEST Data is: \")\n",
    "print(np.round(metrics.mean_squared_error(y_test, predict_test_ridge), 2))\n",
    "print(\"Elastic Net Regression Mean Square Error for TEST Data is: \")\n",
    "print(np.round(metrics.mean_squared_error(y_test, predict_test_elasticnet), 2))"
   ]
  },
  {
   "cell_type": "markdown",
   "metadata": {},
   "source": [
    "#  Hyper-parameter optimization - Random Forest"
   ]
  },
  {
   "cell_type": "code",
   "execution_count": null,
   "metadata": {},
   "outputs": [
    {
     "name": "stdout",
     "output_type": "stream",
     "text": [
      "multiclass\n"
     ]
    }
   ],
   "source": [
    "rfc=RandomForestRegressor(random_state=42)\n",
    "param_grid = { \n",
    "    'n_estimators': [1, 2, 4, 8, 16, 32, 64, 100, 200],\n",
    "    'max_features': ['auto', 'sqrt', 'log2'],\n",
    "    'max_depth' : [4,5,6,7,8]\n",
    "}\n",
    "CV_rfc = GridSearchCV(estimator=rfc, param_grid=param_grid, cv= 5)\n",
    "\n",
    "lab_enc = preprocessing.LabelEncoder()\n",
    "encoded = lab_enc.fit_transform(y_train)\n",
    "print(utils.multiclass.type_of_target(encoded))\n",
    "\n",
    "CV_rfc.fit(X_train, encoded)\n",
    "CV_rfc.best_params_\n"
   ]
  },
  {
   "cell_type": "code",
   "execution_count": null,
   "metadata": {
    "scrolled": true
   },
   "outputs": [],
   "source": [
    "CV_rfc.fit(X_train, encoded)\n",
    "CV_rfc.best_params_"
   ]
  }
 ],
 "metadata": {
  "kernelspec": {
   "display_name": "Python 3",
   "language": "python",
   "name": "python3"
  },
  "language_info": {
   "codemirror_mode": {
    "name": "ipython",
    "version": 3
   },
   "file_extension": ".py",
   "mimetype": "text/x-python",
   "name": "python",
   "nbconvert_exporter": "python",
   "pygments_lexer": "ipython3",
   "version": "3.7.0"
  }
 },
 "nbformat": 4,
 "nbformat_minor": 2
}
